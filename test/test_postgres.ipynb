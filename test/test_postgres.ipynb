{
 "cells": [
  {
   "cell_type": "code",
   "execution_count": 1,
   "id": "5b378497",
   "metadata": {},
   "outputs": [],
   "source": [
    "import psycopg2\n",
    "def get_db_connection():\n",
    "    \"\"\"데이터베이스 연결을 반환합니다.\"\"\"\n",
    "    try:\n",
    "        conn = psycopg2.connect(\n",
    "            host=\"localhost\",\n",
    "            database=\"mydb\",\n",
    "            user=\"admin\",\n",
    "            password=\"admin123\"\n",
    "        )\n",
    "        return conn\n",
    "    except psycopg2.Error as e:\n",
    "        raise"
   ]
  },
  {
   "cell_type": "code",
   "execution_count": null,
   "id": "8aa6af63",
   "metadata": {},
   "outputs": [
    {
     "name": "stdout",
     "output_type": "stream",
     "text": [
      "--- 데이터베이스의 모든 테이블 ---\n",
      "테이블명: products\n"
     ]
    },
    {
     "data": {
      "text/plain": [
       "['products']"
      ]
     },
     "execution_count": 16,
     "metadata": {},
     "output_type": "execute_result"
    }
   ],
   "source": [
    "import psycopg2\n",
    "\n",
    "def get_all_tables():\n",
    "    \"\"\"데이터베이스의 모든 테이블 이름을 조회합니다.\"\"\"\n",
    "    conn = None\n",
    "    try:\n",
    "        # DB 연결\n",
    "        conn =get_db_connection()\n",
    "        cur = conn.cursor()\n",
    "\n",
    "        # 모든 테이블 이름 조회 (시스템 테이블 제외)\n",
    "        query = \"\"\"\n",
    "        SELECT table_name \n",
    "        FROM information_schema.tables \n",
    "        WHERE table_schema = 'public' \n",
    "        ORDER BY table_name;\n",
    "        \"\"\"\n",
    "        \n",
    "        cur.execute(query)\n",
    "        tables = cur.fetchall()\n",
    "\n",
    "        print(\"--- 데이터베이스의 모든 테이블 ---\")\n",
    "        for table in tables:\n",
    "            print(f\"테이블명: {table[0]}\")\n",
    "\n",
    "        return [table[0] for table in tables]\n",
    "\n",
    "    except (Exception, psycopg2.DatabaseError) as error:\n",
    "        print(\"오류 발생:\", error)\n",
    "        return []\n",
    "    finally:\n",
    "        if conn is not None:\n",
    "            cur.close()\n",
    "            conn.close()\n",
    "\n",
    "# 사용 예시\n",
    "get_all_tables()"
   ]
  },
  {
   "cell_type": "code",
   "execution_count": null,
   "id": "e500e2a5",
   "metadata": {},
   "outputs": [
    {
     "name": "stdout",
     "output_type": "stream",
     "text": [
      "'products' 테이블이 성공적으로 생성되었습니다.\n",
      "PostgreSQL connection is closed.\n"
     ]
    }
   ],
   "source": [
    "import psycopg2\n",
    "from psycopg2 import sql\n",
    "\n",
    "def create_table():\n",
    "    \"\"\"PostgreSQL 데이터베이스에 새로운 테이블을 생성합니다.\"\"\"\n",
    "    conn = None\n",
    "    try:\n",
    "        # 데이터베이스 연결\n",
    "        conn = get_db_connection()\n",
    "\n",
    "        # 커서(cursor) 생성\n",
    "        cur = conn.cursor()\n",
    "\n",
    "        # 실행할 SQL 쿼리 (테이블 생성)\n",
    "        # IF NOT EXISTS를 사용하여 테이블이 이미 존재하면 에러를 방지합니다.\n",
    "        create_table_query = \"\"\"\n",
    "        CREATE TABLE IF NOT EXISTS products (\n",
    "            id SERIAL PRIMARY KEY,\n",
    "            name VARCHAR(255) NOT NULL,\n",
    "            price NUMERIC(10, 2) NOT NULL,\n",
    "            created_at TIMESTAMP WITH TIME ZONE DEFAULT CURRENT_TIMESTAMP\n",
    "        );\n",
    "        \"\"\"\n",
    "\n",
    "        # SQL 쿼리 실행\n",
    "        cur.execute(create_table_query)\n",
    "\n",
    "        # 변경사항을 데이터베이스에 커밋(commit)\n",
    "        conn.commit()\n",
    "\n",
    "        print(\"'products' 테이블이 성공적으로 생성되었습니다.\")\n",
    "\n",
    "    except (Exception, psycopg2.DatabaseError) as error:\n",
    "        print(\"Error while connecting to PostgreSQL\", error)\n",
    "    finally:\n",
    "        # 연결 종료\n",
    "        if conn is not None:\n",
    "            cur.close()\n",
    "            conn.close()\n",
    "            print(\"PostgreSQL connection is closed.\")\n",
    "\n",
    "create_table()"
   ]
  },
  {
   "cell_type": "code",
   "execution_count": null,
   "id": "f0807d52",
   "metadata": {},
   "outputs": [
    {
     "name": "stdout",
     "output_type": "stream",
     "text": [
      "4개의 상품 데이터가 성공적으로 삽입되었습니다.\n"
     ]
    }
   ],
   "source": [
    "import psycopg2\n",
    "\n",
    "def insert_multiple_products():\n",
    "    \"\"\"products 테이블에 여러 상품 데이터를 한 번에 삽입합니다.\"\"\"\n",
    "    conn = None\n",
    "    try:\n",
    "        conn = get_db_connection()\n",
    "        cur = conn.cursor()\n",
    "\n",
    "        # 1. 여러 행을 삽입할 SQL\n",
    "        sql = \"INSERT INTO products (name, price) VALUES (%s, %s);\"\n",
    "\n",
    "        # 2. 튜플의 리스트 형태로 데이터 준비\n",
    "        products_to_insert = [\n",
    "            ('Mechanical Keyboard', 125.50),\n",
    "            ('4K Monitor', 450.00),\n",
    "            ('Webcam', 75.25),\n",
    "            ('USB Hub', 22.99)\n",
    "        ]\n",
    "\n",
    "        # 3. executemany()로 한 번에 실행\n",
    "        cur.executemany(sql, products_to_insert)\n",
    "\n",
    "        # 4. 변경사항 커밋\n",
    "        conn.commit()\n",
    "        print(f\"{len(products_to_insert)}개의 상품 데이터가 성공적으로 삽입되었습니다.\")\n",
    "\n",
    "    except (Exception, psycopg2.DatabaseError) as error:\n",
    "        print(\"오류 발생:\", error)\n",
    "        if conn:\n",
    "            conn.rollback()\n",
    "    finally:\n",
    "        if conn is not None:\n",
    "            cur.close()\n",
    "            conn.close()\n",
    "\n",
    "insert_multiple_products()"
   ]
  },
  {
   "cell_type": "code",
   "execution_count": null,
   "id": "e539626f",
   "metadata": {},
   "outputs": [
    {
     "name": "stdout",
     "output_type": "stream",
     "text": [
      "--- 모든 상품 목록 ---\n",
      "ID: 2, 이름: 4K Monitor, 가격: $450.00\n",
      "ID: 3, 이름: Webcam, 가격: $75.25\n",
      "ID: 4, 이름: USB Hub, 가격: $22.99\n",
      "ID: 5, 이름: Mechanical Keyboard, 가격: $125.50\n",
      "ID: 6, 이름: 4K Monitor, 가격: $450.00\n",
      "ID: 7, 이름: Webcam, 가격: $75.25\n",
      "ID: 8, 이름: USB Hub, 가격: $22.99\n"
     ]
    }
   ],
   "source": [
    "import psycopg2\n",
    "\n",
    "def select_all_products():\n",
    "    \"\"\"products 테이블의 모든 데이터를 조회합니다.\"\"\"\n",
    "    conn = None\n",
    "    try:\n",
    "        # DB 연결\n",
    "        conn = get_db_connection()\n",
    "        cur = conn.cursor()\n",
    "\n",
    "        # 1. SELECT 쿼리 실행\n",
    "        cur.execute(\"SELECT id, name, price, created_at FROM products ORDER BY id;\")\n",
    "\n",
    "        # 2. 조회된 모든 데이터를 한 번에 가져오기\n",
    "        products = cur.fetchall()\n",
    "\n",
    "        # 3. 결과 출력\n",
    "        print(\"--- 모든 상품 목록 ---\")\n",
    "        for product in products:\n",
    "            # product는 (id, name, price, created_at) 형태의 튜플입니다.\n",
    "            print(f\"ID: {product[0]}, 이름: {product[1]}, 가격: ${product[2]:.2f}\")\n",
    "\n",
    "    except (Exception, psycopg2.DatabaseError) as error:\n",
    "        print(\"오류 발생:\", error)\n",
    "    finally:\n",
    "        if conn is not None:\n",
    "            cur.close()\n",
    "            conn.close()\n",
    "\n",
    "select_all_products()"
   ]
  },
  {
   "cell_type": "code",
   "execution_count": null,
   "id": "2b00cf38",
   "metadata": {},
   "outputs": [
    {
     "name": "stdout",
     "output_type": "stream",
     "text": [
      "ID 2인 상품이 성공적으로 삭제되었습니다.\n",
      "--- 모든 상품 목록 ---\n",
      "ID: 3, 이름: Webcam, 가격: $75.25\n",
      "ID: 4, 이름: USB Hub, 가격: $22.99\n",
      "ID: 5, 이름: Mechanical Keyboard, 가격: $125.50\n",
      "ID: 6, 이름: 4K Monitor, 가격: $450.00\n",
      "ID: 7, 이름: Webcam, 가격: $75.25\n",
      "ID: 8, 이름: USB Hub, 가격: $22.99\n"
     ]
    }
   ],
   "source": [
    "import psycopg2\n",
    "\n",
    "def delete_product_by_id(product_id):\n",
    "    \"\"\"특정 ID를 가진 상품을 products 테이블에서 삭제합니다.\"\"\"\n",
    "    conn = None\n",
    "    deleted_rows = 0\n",
    "    try:\n",
    "        # DB 연결\n",
    "        conn = get_db_connection()\n",
    "        cur = conn.cursor()\n",
    "\n",
    "        # 1. DELETE 쿼리 실행\n",
    "        delete_query = \"DELETE FROM products WHERE id = %s;\"\n",
    "        cur.execute(delete_query, (product_id,))\n",
    "\n",
    "        # 2. 삭제된 행 수 확인\n",
    "        deleted_rows = cur.rowcount\n",
    "\n",
    "        # 3. 변경사항 커밋\n",
    "        conn.commit()\n",
    "\n",
    "        if deleted_rows > 0:\n",
    "            print(f\"ID {product_id}인 상품이 성공적으로 삭제되었습니다.\")\n",
    "        else:\n",
    "            print(f\"ID {product_id}인 상품을 찾을 수 없습니다.\")\n",
    "\n",
    "    except (Exception, psycopg2.DatabaseError) as error:\n",
    "        print(\"오류 발생:\", error)\n",
    "        # 오류 발생 시 롤백\n",
    "        if conn is not None:\n",
    "            conn.rollback()\n",
    "    finally:\n",
    "        if conn is not None:\n",
    "            cur.close()\n",
    "            conn.close()\n",
    "    \n",
    "    return deleted_rows\n",
    "\n",
    "# 사용 예시\n",
    "if __name__ == \"__main__\":\n",
    "    # 삭제할 상품 ID 입력\n",
    "    product_id_to_delete = 2  # 여기에 삭제하려는 상품 ID를 입력하세요\n",
    "    \n",
    "    # 상품 삭제 실행\n",
    "    delete_product_by_id(product_id_to_delete)\n",
    "    \n",
    "    # 삭제 후 전체 상품 목록 확인 (선택사항)\n",
    "    select_all_products()"
   ]
  },
  {
   "cell_type": "code",
   "execution_count": null,
   "id": "d3cd9561",
   "metadata": {},
   "outputs": [],
   "source": []
  }
 ],
 "metadata": {
  "kernelspec": {
   "display_name": ".venv",
   "language": "python",
   "name": "python3"
  },
  "language_info": {
   "codemirror_mode": {
    "name": "ipython",
    "version": 3
   },
   "file_extension": ".py",
   "mimetype": "text/x-python",
   "name": "python",
   "nbconvert_exporter": "python",
   "pygments_lexer": "ipython3",
   "version": "3.12.6"
  }
 },
 "nbformat": 4,
 "nbformat_minor": 5
}
