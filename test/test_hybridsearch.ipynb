{
 "cells": [
  {
   "cell_type": "code",
   "execution_count": 2,
   "id": "49b1f931",
   "metadata": {},
   "outputs": [],
   "source": [
    "from typing import Union, List\n",
    "from langchain_ollama import OllamaEmbeddings\n",
    "from langchain_elasticsearch import ElasticsearchStore, DenseVectorStrategy\n",
    "\n",
    "def load_elastic_vectorstore(index_names: Union[str, List[str]]):\n",
    "    # 단일 문자열인 경우 리스트로 변환\n",
    "    if isinstance(index_names, str):\n",
    "        index_names = [index_names]\n",
    "    \n",
    "    vector_store = ElasticsearchStore(\n",
    "        index_name=index_names, \n",
    "        embedding=OllamaEmbeddings(\n",
    "            base_url=\"http://localhost:11434\", \n",
    "            model=\"bge-m3:latest\"\n",
    "        ), \n",
    "        es_url=\"http://localhost:9200\",\n",
    "        es_user=\"Kstyle\",\n",
    "        es_password=\"12345\",\n",
    "        # strategy=DenseVectorStrategy(hybrid=True)\n",
    "    )\n",
    "    return vector_store\n",
    "\n",
    "\n",
    "index_names = [\"rule\"]\n",
    "vector_store = load_elastic_vectorstore(index_names=index_names)"
   ]
  },
  {
   "cell_type": "code",
   "execution_count": 3,
   "id": "26a31af9",
   "metadata": {},
   "outputs": [
    {
     "data": {
      "text/plain": [
       "[Document(metadata={'filename': 'KR Notation Guide_2025.pdf', 'lv1_cat': 'RULE', 'lv2_cat': 'KR', 'page': '248'}, page_content='This page explains KR Notation Guide_2025 that belongs to RULE and  KR categories.\\n## 3.0 Special feature\\n\\n## Example :\\n\\nIn cases where the ship is applied to the reduced scantling as the restriction of navigation area and condition :\\n\\n✠KRS 0 -Barge\\n\\nService between Korea and Sakhalin during May and June\\n\\n- ※ Comparison of Ice Class of the Society with Finnish-Swedish Ice Class Rules 2010 and Arctic Shipping Pollution Prevention Regulations\\n\\n| Ice Class of the Society   | Ice Class of  Finish-Swedish Ice Class  Rules 2010   |\\n|----------------------------|------------------------------------------------------|\\n| IA Super                   | IA Super                                             |\\n| IA                         | IA                                                   |\\n| IB                         | IB                                                   |\\n| IC                         | IC                                                   |\\n| *                          | II                                                   |\\n\\n## (NOTES)\\n\\n*) ID class of the Society is not equal to II class of the Finnish-Swedish Ice Class Rule, because ID class requires strength -ening of forward region.\\n\\n\\n\\n| Ice Class of the Society   | Ice Class of Arctic Shipping  Pollution Prevention Regulations   |\\n|----------------------------|------------------------------------------------------------------|\\n| IA Super                   | Type A                                                           |\\n| IA                         | Type B                                                           |\\n| IB                         | Type C                                                           |\\n| IC                         | Type D                                                           |\\n| ID                         | Type D                                                           |'),\n",
       " Document(metadata={'filename': 'KR Notation Guide_2025.pdf', 'lv1_cat': 'RULE', 'lv2_cat': 'KR', 'page': '185'}, page_content='This page explains KR Notation Guide_2025 that belongs to RULE and  KR categories.\\n## 28. Refrigerated Cargo Carrier\\n\\n## NOTATIONS (Ship Type Notations)\\n\\n## Refrigerated Cargo Carrier\\n\\n## DESCRIPTIONS\\n\\nRefrigerated Cargo Carrier : to be assigned to ships equipped with the refrigerating installations at the cargo holds for the carriage of frozen cargoes.\\n\\n## REQUIREMENTS / RULE REFERENCES\\n\\n| Notations                                                                                                                                                  | Design                                                                                                                                                     | Survey                                                                                                                                                     |\\n|------------------------------------------------------------------------------------------------------------------------------------------------------------|------------------------------------------------------------------------------------------------------------------------------------------------------------|------------------------------------------------------------------------------------------------------------------------------------------------------------|\\n| Refrigerated Cargo Carrier                                                                                                                                 | Pt 3 1) ,  Pt 9\\r 2)                                                                                                                                                            | Pt 1 Ch 2, Pt 9\\r 2)                                                                                                                                                            |\\n| (Notes) 1) For small steel ships of which length is less than 90m, Pt 10 is to be applied. 2) For refrigerating installations, Pt 9 Ch 1 is to be applied. | (Notes) 1) For small steel ships of which length is less than 90m, Pt 10 is to be applied. 2) For refrigerating installations, Pt 9 Ch 1 is to be applied. | (Notes) 1) For small steel ships of which length is less than 90m, Pt 10 is to be applied. 2) For refrigerating installations, Pt 9 Ch 1 is to be applied. |\\n\\n## EXAMPLES\\n\\n---------------------------------------------------------------------------------------------\\n\\n```\\n✠KRS 1 -Refrigerated Cargo Carrier\\n```\\n\\nCLEAN1 LG\\n\\n✠KRM 1 -RMC\\n\\n---------------------------------------------------------------------------------------------\\n\\n')]"
      ]
     },
     "execution_count": 3,
     "metadata": {},
     "output_type": "execute_result"
    }
   ],
   "source": [
    "results = vector_store.similarity_search(\n",
    "    query=\"ice rule\",\n",
    "    k=2,\n",
    "    # filter=[{\"term\": {\"metadata.lv1_cat.keyword\": \"안전\"}}],\n",
    ")\n",
    "results"
   ]
  },
  {
   "cell_type": "code",
   "execution_count": 4,
   "id": "205c51ca",
   "metadata": {},
   "outputs": [
    {
     "data": {
      "text/markdown": [
       "This page explains KR Notation Guide_2025 that belongs to RULE and  KR categories.\n",
       "## 3.0 Special feature\n",
       "\n",
       "## Example :\n",
       "\n",
       "In cases where the ship is applied to the reduced scantling as the restriction of navigation area and condition :\n",
       "\n",
       "✠KRS 0 -Barge\n",
       "\n",
       "Service between Korea and Sakhalin during May and June\n",
       "\n",
       "- ※ Comparison of Ice Class of the Society with Finnish-Swedish Ice Class Rules 2010 and Arctic Shipping Pollution Prevention Regulations\n",
       "\n",
       "| Ice Class of the Society   | Ice Class of  Finish-Swedish Ice Class  Rules 2010   |\n",
       "|----------------------------|------------------------------------------------------|\n",
       "| IA Super                   | IA Super                                             |\n",
       "| IA                         | IA                                                   |\n",
       "| IB                         | IB                                                   |\n",
       "| IC                         | IC                                                   |\n",
       "| *                          | II                                                   |\n",
       "\n",
       "## (NOTES)\n",
       "\n",
       "*) ID class of the Society is not equal to II class of the Finnish-Swedish Ice Class Rule, because ID class requires strength -ening of forward region.\n",
       "\n",
       "\n",
       "\n",
       "| Ice Class of the Society   | Ice Class of Arctic Shipping  Pollution Prevention Regulations   |\n",
       "|----------------------------|------------------------------------------------------------------|\n",
       "| IA Super                   | Type A                                                           |\n",
       "| IA                         | Type B                                                           |\n",
       "| IB                         | Type C                                                           |\n",
       "| IC                         | Type D                                                           |\n",
       "| ID                         | Type D                                                           |"
      ],
      "text/plain": [
       "<IPython.core.display.Markdown object>"
      ]
     },
     "execution_count": 4,
     "metadata": {},
     "output_type": "execute_result"
    }
   ],
   "source": [
    "from IPython.display import Markdown\n",
    "Markdown(results[0].page_content)"
   ]
  },
  {
   "cell_type": "code",
   "execution_count": 5,
   "id": "f52261a5",
   "metadata": {},
   "outputs": [
    {
     "data": {
      "text/markdown": [
       "This page explains KR Notation Guide_2025 that belongs to RULE and  KR categories.\n",
       "## 28. Refrigerated Cargo Carrier\n",
       "\n",
       "## NOTATIONS (Ship Type Notations)\n",
       "\n",
       "## Refrigerated Cargo Carrier\n",
       "\n",
       "## DESCRIPTIONS\n",
       "\n",
       "Refrigerated Cargo Carrier : to be assigned to ships equipped with the refrigerating installations at the cargo holds for the carriage of frozen cargoes.\n",
       "\n",
       "## REQUIREMENTS / RULE REFERENCES\n",
       "\n",
       "| Notations                                                                                                                                                  | Design                                                                                                                                                     | Survey                                                                                                                                                     |\n",
       "|------------------------------------------------------------------------------------------------------------------------------------------------------------|------------------------------------------------------------------------------------------------------------------------------------------------------------|------------------------------------------------------------------------------------------------------------------------------------------------------------|\n",
       "| Refrigerated Cargo Carrier                                                                                                                                 | Pt 3 1) ,  Pt 9\r 2)                                                                                                                                                            | Pt 1 Ch 2, Pt 9\r 2)                                                                                                                                                            |\n",
       "| (Notes) 1) For small steel ships of which length is less than 90m, Pt 10 is to be applied. 2) For refrigerating installations, Pt 9 Ch 1 is to be applied. | (Notes) 1) For small steel ships of which length is less than 90m, Pt 10 is to be applied. 2) For refrigerating installations, Pt 9 Ch 1 is to be applied. | (Notes) 1) For small steel ships of which length is less than 90m, Pt 10 is to be applied. 2) For refrigerating installations, Pt 9 Ch 1 is to be applied. |\n",
       "\n",
       "## EXAMPLES\n",
       "\n",
       "---------------------------------------------------------------------------------------------\n",
       "\n",
       "```\n",
       "✠KRS 1 -Refrigerated Cargo Carrier\n",
       "```\n",
       "\n",
       "CLEAN1 LG\n",
       "\n",
       "✠KRM 1 -RMC\n",
       "\n",
       "---------------------------------------------------------------------------------------------\n",
       "\n"
      ],
      "text/plain": [
       "<IPython.core.display.Markdown object>"
      ]
     },
     "execution_count": 5,
     "metadata": {},
     "output_type": "execute_result"
    }
   ],
   "source": [
    "Markdown(results[1].page_content)"
   ]
  },
  {
   "cell_type": "code",
   "execution_count": 3,
   "id": "f3ee44a4",
   "metadata": {},
   "outputs": [
    {
     "data": {
      "text/plain": [
       "[Document(metadata={'filename': 'KR Notation Guide_2025.pdf', 'lv1_cat': 'RULE', 'lv2_cat': 'KR', 'page': '248'}, page_content='This page explains KR Notation Guide_2025 that belongs to RULE and  KR categories.\\n## 3.0 Special feature\\n\\n## Example :\\n\\nIn cases where the ship is applied to the reduced scantling as the restriction of navigation area and condition :\\n\\n✠KRS 0 -Barge\\n\\nService between Korea and Sakhalin during May and June\\n\\n- ※ Comparison of Ice Class of the Society with Finnish-Swedish Ice Class Rules 2010 and Arctic Shipping Pollution Prevention Regulations\\n\\n| Ice Class of the Society   | Ice Class of  Finish-Swedish Ice Class  Rules 2010   |\\n|----------------------------|------------------------------------------------------|\\n| IA Super                   | IA Super                                             |\\n| IA                         | IA                                                   |\\n| IB                         | IB                                                   |\\n| IC                         | IC                                                   |\\n| *                          | II                                                   |\\n\\n## (NOTES)\\n\\n*) ID class of the Society is not equal to II class of the Finnish-Swedish Ice Class Rule, because ID class requires strength -ening of forward region.\\n\\n\\n\\n| Ice Class of the Society   | Ice Class of Arctic Shipping  Pollution Prevention Regulations   |\\n|----------------------------|------------------------------------------------------------------|\\n| IA Super                   | Type A                                                           |\\n| IA                         | Type B                                                           |\\n| IB                         | Type C                                                           |\\n| IC                         | Type D                                                           |\\n| ID                         | Type D                                                           |'),\n",
       " Document(metadata={'filename': 'KR Notation Guide_2025.pdf', 'lv1_cat': 'RULE', 'lv2_cat': 'KR', 'page': '185'}, page_content='This page explains KR Notation Guide_2025 that belongs to RULE and  KR categories.\\n## 28. Refrigerated Cargo Carrier\\n\\n## NOTATIONS (Ship Type Notations)\\n\\n## Refrigerated Cargo Carrier\\n\\n## DESCRIPTIONS\\n\\nRefrigerated Cargo Carrier : to be assigned to ships equipped with the refrigerating installations at the cargo holds for the carriage of frozen cargoes.\\n\\n## REQUIREMENTS / RULE REFERENCES\\n\\n| Notations                                                                                                                                                  | Design                                                                                                                                                     | Survey                                                                                                                                                     |\\n|------------------------------------------------------------------------------------------------------------------------------------------------------------|------------------------------------------------------------------------------------------------------------------------------------------------------------|------------------------------------------------------------------------------------------------------------------------------------------------------------|\\n| Refrigerated Cargo Carrier                                                                                                                                 | Pt 3 1) ,  Pt 9\\r 2)                                                                                                                                                            | Pt 1 Ch 2, Pt 9\\r 2)                                                                                                                                                            |\\n| (Notes) 1) For small steel ships of which length is less than 90m, Pt 10 is to be applied. 2) For refrigerating installations, Pt 9 Ch 1 is to be applied. | (Notes) 1) For small steel ships of which length is less than 90m, Pt 10 is to be applied. 2) For refrigerating installations, Pt 9 Ch 1 is to be applied. | (Notes) 1) For small steel ships of which length is less than 90m, Pt 10 is to be applied. 2) For refrigerating installations, Pt 9 Ch 1 is to be applied. |\\n\\n## EXAMPLES\\n\\n---------------------------------------------------------------------------------------------\\n\\n```\\n✠KRS 1 -Refrigerated Cargo Carrier\\n```\\n\\nCLEAN1 LG\\n\\n✠KRM 1 -RMC\\n\\n---------------------------------------------------------------------------------------------\\n\\n'),\n",
       " Document(metadata={'filename': 'KR Notation Guide_2025.pdf', 'lv1_cat': 'RULE', 'lv2_cat': 'KR', 'page': '118'}, page_content='This page explains KR Notation Guide_2025 that belongs to RULE and  KR categories.\\n## REQUIREMENTS / RULE REFERENCES\\n\\n| Notations                                                                                  | Design                                                                                     | Survey                                                                                     |\\n|--------------------------------------------------------------------------------------------|--------------------------------------------------------------------------------------------|--------------------------------------------------------------------------------------------|\\n| Salvage                                                                                    | Pt 7 Ch 9 1)                                                                               | -                                                                                          |\\n| Supply                                                                                     | Pt 7 Ch 9 1)                                                                               | -                                                                                          |\\n| Anchor                                                                                     | Pt 7 Ch 9\\r 1)                                                                                            | -                                                                                          |\\n| Fire-Fighting(GA or GC)                                                                    | Pt 7 Ch 9 1)                                                                               | -                                                                                          |\\n| Oil Recovery(GA, GB or GC)                                                                 | Pt 7 Ch 9 1)                                                                               | -                                                                                          |\\n| (Notes) 1) For small steel ships of which length is less than 90m, Pt 10 is to be applied. | (Notes) 1) For small steel ships of which length is less than 90m, Pt 10 is to be applied. | (Notes) 1) For small steel ships of which length is less than 90m, Pt 10 is to be applied. |\\n\\n## EXAMPLES\\n\\n---------------------------------------------------------------------------------------------\\n\\n✠KRS 1 - Tug Boat\\n\\n✠KRM 1\\n\\n---------------------------------------------------------------------------------------------\\n\\n- ✠KRS 1 - Tug Boat\\n\\nAnchor CLEAN1\\n\\n✠KRM 1\\n\\n---------------------------------------------------------------------------------------------\\n\\n- ✠KRS 1 - Tug Boat\\n\\nSupply(GC) CLEAN1\\n\\n✠KRM 1\\n\\n---------------------------------------------------------------------------------------------\\n\\n✠KRS 1 - Tug Boat\\n\\nFire-Fighting(GC) CLEAN1\\n\\n✠KRM 1\\n\\n-------------------------------------------------------------------------------------------------------\\n\\n✠KRS 1 - Tug Boat\\n\\nOil Recovery(GC) CLEAN1\\n\\n✠KRM 1\\n\\n---------------------------------------------------------------------------------------------\\n\\n'),\n",
       " Document(metadata={'filename': 'KR Notation Guide_2025.pdf', 'lv1_cat': 'RULE', 'lv2_cat': 'KR', 'page': '116'}, page_content='This page explains KR Notation Guide_2025 that belongs to RULE and  KR categories.\\n## 15-1. Tug Boat\\n\\n## NOTATIONS (Ship Type Notations)\\n\\nTug Boat\\n\\n## DESCRIPTIONS\\n\\nTug Boat : to be assigned to ships designed primarily for towing service.\\n\\n## REQUIREMENTS / RULE REFERENCES\\n\\n| Notations                                                                                  | Design                                                                                     | Survey                                                                                     |\\n|--------------------------------------------------------------------------------------------|--------------------------------------------------------------------------------------------|--------------------------------------------------------------------------------------------|\\n| Tug Boat                                                                                   | Pt 7 Ch 9 1)                                                                               | Pt 1 Ch 2                                                                                  |\\n| (Notes) 1) For small steel ships of which length is less than 90m, Pt 10 is to be applied. | (Notes) 1) For small steel ships of which length is less than 90m, Pt 10 is to be applied. | (Notes) 1) For small steel ships of which length is less than 90m, Pt 10 is to be applied. |\\n\\n## EXAMPLES\\n\\n| ✠KRS 1  ✠KRM 1   | -  Tug Boat                             |\\n|------------------|-----------------------------------------|\\n| ✠KRS 1  ✠KRM 1   | -  Tug Boat Anchor CLEAN1               |\\n| ✠KRS 1  ✠KRM 1   | -  Tug Boat Supply(GC) CLEAN1           |\\n| ✠KRS 1  ✠KRM 1   | -  Tug Boat Fire-Fighting(GC) CLEAN1    |\\n| ✠KRS 1  ✠KRM 1   | -  Tug Boat Oil Recovery(GC) CLEAN1     |\\n| ✠KRS 1  ✠KRM 1   | -  Tug Boat Oil Recovery(GC) FF1 CLEAN1 |\\n\\n')]"
      ]
     },
     "execution_count": 3,
     "metadata": {},
     "output_type": "execute_result"
    }
   ],
   "source": [
    "retriever = vector_store.as_retriever(\n",
    "    search_type=\"similarity_score_threshold\", search_kwargs={\"score_threshold\": 0.6}\n",
    ")\n",
    "retriever.invoke(\"ice rule\")"
   ]
  },
  {
   "cell_type": "code",
   "execution_count": null,
   "metadata": {},
   "outputs": [],
   "source": []
  }
 ],
 "metadata": {
  "kernelspec": {
   "display_name": ".venv",
   "language": "python",
   "name": "python3"
  },
  "language_info": {
   "codemirror_mode": {
    "name": "ipython",
    "version": 3
   },
   "file_extension": ".py",
   "mimetype": "text/x-python",
   "name": "python",
   "nbconvert_exporter": "python",
   "pygments_lexer": "ipython3",
   "version": "3.12.6"
  }
 },
 "nbformat": 4,
 "nbformat_minor": 5
}
